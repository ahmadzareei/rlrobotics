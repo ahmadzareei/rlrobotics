{
 "cells": [
  {
   "cell_type": "markdown",
   "id": "3704e63d-1d0f-468e-81ca-b0692e621148",
   "metadata": {},
   "source": [
    "# How to compute attitude of robot"
   ]
  },
  {
   "cell_type": "code",
   "execution_count": null,
   "id": "12435d72-79d8-4976-a956-98c8dea108c2",
   "metadata": {},
   "outputs": [],
   "source": [
    "import numpy as np\n",
    "import numpy.ma as ma\n",
    "from coordinates import Coordinate"
   ]
  },
  {
   "cell_type": "markdown",
   "id": "e2fba0fd-be10-48a5-8dc8-6e87544a66a7",
   "metadata": {},
   "source": [
    "We know which leg is touching the floor with:\n",
    "- touching var is a bool array representing if the leg is touching the floor\n",
    "- mov var is an array of the displacement in X of the leg"
   ]
  },
  {
   "cell_type": "code",
   "execution_count": null,
   "id": "6a0e963c-d385-4fbb-acde-f273fba78422",
   "metadata": {},
   "outputs": [],
   "source": [
    "touching = np.array([True, False, True, False])\n",
    "mov = np.array([-1, -1, -0.5, 0])"
   ]
  },
  {
   "cell_type": "markdown",
   "id": "5be2d712-7847-4358-80aa-d473d4452e87",
   "metadata": {},
   "source": [
    "We use masked array to work only on the movement of the legs that are touching the floor"
   ]
  },
  {
   "cell_type": "code",
   "execution_count": null,
   "id": "f4379411-a794-47a4-9231-3f91bff69658",
   "metadata": {},
   "outputs": [],
   "source": [
    "mov_mx_x = ma.masked_array(mov, mask=np.invert(touching))\n",
    "mov_mx_x"
   ]
  },
  {
   "cell_type": "code",
   "execution_count": null,
   "id": "9c7cbe9d-c260-4bba-9690-5c22833ffb44",
   "metadata": {},
   "outputs": [],
   "source": [
    "nb_touching_legs = np.sum(touching)\n",
    "\n",
    "delta_x = 0  # Represent the change of attitude in X\n",
    "\n",
    "if np.abs(np.sum(np.sign(mov_mx_x))) == nb_touching_legs:\n",
    "    # This means the legs are moving in the same direction\n",
    "    min_mov = mov_mx_x[np.argmin(np.abs(mov_mx_x))]\n",
    "    delta_x += min_mov\n",
    "    mov_mx_x -= min_mov"
   ]
  },
  {
   "cell_type": "code",
   "execution_count": null,
   "id": "f05598da-50c5-4f5b-983f-f68f9bac9477",
   "metadata": {},
   "outputs": [],
   "source": [
    "mov_mx_x"
   ]
  },
  {
   "cell_type": "markdown",
   "id": "983dd858-0d0e-4d7c-be33-066d063edf5d",
   "metadata": {},
   "source": [
    "# Actuation repeat same sequence"
   ]
  },
  {
   "cell_type": "code",
   "execution_count": null,
   "id": "e1f9023b-04fd-438f-b3db-0a1014292cb9",
   "metadata": {},
   "outputs": [],
   "source": [
    "steps = 3\n",
    "actuation = np.concatenate(\n",
    "    (\n",
    "        np.linspace(0, 5 * 2, num=steps),\n",
    "        np.linspace(5 * 2, 0, num=steps)\n",
    "    ),\n",
    "    axis=0\n",
    ")\n",
    "actuation = np.tile(actuation, 2)"
   ]
  },
  {
   "cell_type": "code",
   "execution_count": null,
   "id": "f332dc5c-763c-4774-a1b7-e51066dcd723",
   "metadata": {},
   "outputs": [],
   "source": [
    "actuation"
   ]
  },
  {
   "cell_type": "markdown",
   "id": "e66ed612-b766-46c3-859e-b3fb96aa07cd",
   "metadata": {},
   "source": [
    "# Pandas multi level "
   ]
  },
  {
   "cell_type": "code",
   "execution_count": 1,
   "id": "0ffb46ed-610f-420f-a664-16aaf38a8841",
   "metadata": {},
   "outputs": [],
   "source": [
    "import pandas as pd\n",
    "import numpy as np"
   ]
  },
  {
   "cell_type": "code",
   "execution_count": 17,
   "id": "4e2ac809-9855-47d2-a34e-811ed24deaa1",
   "metadata": {},
   "outputs": [],
   "source": [
    "d = {}\n",
    "d['J1'] = pd.DataFrame(columns=['A', 'B'])\n",
    "d['J2'] = pd.DataFrame(columns=['A', 'B'])\n",
    "d['J3'] = pd.DataFrame(columns=['A', 'B'])\n",
    "d = pd.concat(d, axis=1)"
   ]
  },
  {
   "cell_type": "code",
   "execution_count": 19,
   "id": "e34fae72-bf98-458a-8de9-3317b33354bc",
   "metadata": {},
   "outputs": [
    {
     "data": {
      "text/html": [
       "<div>\n",
       "<style scoped>\n",
       "    .dataframe tbody tr th:only-of-type {\n",
       "        vertical-align: middle;\n",
       "    }\n",
       "\n",
       "    .dataframe tbody tr th {\n",
       "        vertical-align: top;\n",
       "    }\n",
       "\n",
       "    .dataframe thead th {\n",
       "        text-align: right;\n",
       "    }\n",
       "</style>\n",
       "<table border=\"1\" class=\"dataframe\">\n",
       "  <thead>\n",
       "    <tr style=\"text-align: right;\">\n",
       "      <th></th>\n",
       "      <th>A</th>\n",
       "      <th>B</th>\n",
       "    </tr>\n",
       "  </thead>\n",
       "  <tbody>\n",
       "    <tr>\n",
       "      <th>0</th>\n",
       "      <td>1</td>\n",
       "      <td>2</td>\n",
       "    </tr>\n",
       "  </tbody>\n",
       "</table>\n",
       "</div>"
      ],
      "text/plain": [
       "   A  B\n",
       "0  1  2"
      ]
     },
     "execution_count": 19,
     "metadata": {},
     "output_type": "execute_result"
    }
   ],
   "source": [
    "d['J1'].append({'A': 1, 'B': 2}, ignore_index=True)"
   ]
  },
  {
   "cell_type": "code",
   "execution_count": 20,
   "id": "8516da67-e3f2-4691-806f-543ed6ec0459",
   "metadata": {},
   "outputs": [
    {
     "data": {
      "text/html": [
       "<div>\n",
       "<style scoped>\n",
       "    .dataframe tbody tr th:only-of-type {\n",
       "        vertical-align: middle;\n",
       "    }\n",
       "\n",
       "    .dataframe tbody tr th {\n",
       "        vertical-align: top;\n",
       "    }\n",
       "\n",
       "    .dataframe thead tr th {\n",
       "        text-align: left;\n",
       "    }\n",
       "</style>\n",
       "<table border=\"1\" class=\"dataframe\">\n",
       "  <thead>\n",
       "    <tr>\n",
       "      <th></th>\n",
       "      <th colspan=\"2\" halign=\"left\">J1</th>\n",
       "      <th colspan=\"2\" halign=\"left\">J2</th>\n",
       "      <th colspan=\"2\" halign=\"left\">J3</th>\n",
       "    </tr>\n",
       "    <tr>\n",
       "      <th></th>\n",
       "      <th>A</th>\n",
       "      <th>B</th>\n",
       "      <th>A</th>\n",
       "      <th>B</th>\n",
       "      <th>A</th>\n",
       "      <th>B</th>\n",
       "    </tr>\n",
       "  </thead>\n",
       "  <tbody>\n",
       "  </tbody>\n",
       "</table>\n",
       "</div>"
      ],
      "text/plain": [
       "Empty DataFrame\n",
       "Columns: [(J1, A), (J1, B), (J2, A), (J2, B), (J3, A), (J3, B)]\n",
       "Index: []"
      ]
     },
     "execution_count": 20,
     "metadata": {},
     "output_type": "execute_result"
    }
   ],
   "source": [
    "d"
   ]
  },
  {
   "cell_type": "code",
   "execution_count": null,
   "id": "5030483a-2cf7-4056-937a-1a6a51d30f34",
   "metadata": {},
   "outputs": [],
   "source": []
  }
 ],
 "metadata": {
  "kernelspec": {
   "display_name": "Python 3.8 (XPython)",
   "language": "python",
   "name": "xpython"
  },
  "language_info": {
   "file_extension": ".py",
   "mimetype": "text/x-python",
   "name": "python",
   "version": "3.8.8"
  }
 },
 "nbformat": 4,
 "nbformat_minor": 5
}
