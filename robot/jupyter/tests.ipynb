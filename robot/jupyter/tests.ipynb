{
 "cells": [
  {
   "cell_type": "code",
   "execution_count": 2,
   "id": "12435d72-79d8-4976-a956-98c8dea108c2",
   "metadata": {},
   "outputs": [],
   "source": [
    "import numpy as np\n",
    "from coordinates import Coordinate\n"
   ]
  },
  {
   "cell_type": "code",
   "execution_count": 3,
   "id": "6a0e963c-d385-4fbb-acde-f273fba78422",
   "metadata": {},
   "outputs": [],
   "source": [
    "touching = [True, False, False, True]\n",
    "mov = [Coordinate(x=1, y=2, z=3), Coordinate(x=1, y=2, z=3), Coordinate(x=1, y=2, z=3), Coordinate(x=1, y=2, z=3)]"
   ]
  },
  {
   "cell_type": "code",
   "execution_count": 35,
   "id": "5f817c1c-febc-4f5c-bc77-f0204f0960e9",
   "metadata": {},
   "outputs": [],
   "source": [
    "mov = np.array([1, -1, 1, 0])\n",
    "out = np.where(mov != 0)"
   ]
  },
  {
   "cell_type": "code",
   "execution_count": 36,
   "id": "6ac2942f-09e7-46b5-9c3d-4566aca3fcfb",
   "metadata": {},
   "outputs": [
    {
     "data": {
      "text/plain": [
       "(array([0, 1, 2], dtype=int64),)"
      ]
     },
     "execution_count": 36,
     "metadata": {},
     "output_type": "execute_result"
    }
   ],
   "source": [
    "out"
   ]
  },
  {
   "cell_type": "code",
   "execution_count": 37,
   "id": "744ed1c3-88cc-41cd-8611-921478c4c679",
   "metadata": {},
   "outputs": [
    {
     "data": {
      "text/plain": [
       "1"
      ]
     },
     "execution_count": 37,
     "metadata": {},
     "output_type": "execute_result"
    }
   ],
   "source": [
    "np.sum(np.sign(mov[out]))"
   ]
  },
  {
   "cell_type": "code",
   "execution_count": 26,
   "id": "55c30afd-4e66-4379-b3c0-3dc552b406b8",
   "metadata": {},
   "outputs": [
    {
     "data": {
      "text/plain": [
       "array([1, 1])"
      ]
     },
     "execution_count": 26,
     "metadata": {},
     "output_type": "execute_result"
    }
   ],
   "source": [
    "mov[out]"
   ]
  },
  {
   "cell_type": "code",
   "execution_count": 27,
   "id": "a3295bd5-33b9-45a3-a9b9-31ce087bcdb4",
   "metadata": {},
   "outputs": [
    {
     "data": {
      "text/plain": [
       "array([1, 1])"
      ]
     },
     "execution_count": 27,
     "metadata": {},
     "output_type": "execute_result"
    }
   ],
   "source": []
  },
  {
   "cell_type": "code",
   "execution_count": null,
   "id": "f4379411-a794-47a4-9231-3f91bff69658",
   "metadata": {},
   "outputs": [],
   "source": []
  }
 ],
 "metadata": {
  "kernelspec": {
   "display_name": "Python 3",
   "language": "python",
   "name": "python3"
  },
  "language_info": {
   "codemirror_mode": {
    "name": "ipython",
    "version": 3
   },
   "file_extension": ".py",
   "mimetype": "text/x-python",
   "name": "python",
   "nbconvert_exporter": "python",
   "pygments_lexer": "ipython3",
   "version": "3.8.8"
  }
 },
 "nbformat": 4,
 "nbformat_minor": 5
}
