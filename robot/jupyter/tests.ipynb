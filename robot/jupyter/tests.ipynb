{
 "cells": [
  {
   "cell_type": "markdown",
   "id": "3704e63d-1d0f-468e-81ca-b0692e621148",
   "metadata": {},
   "source": [
    "# How to compute attitude of robot"
   ]
  },
  {
   "cell_type": "code",
   "execution_count": null,
   "id": "12435d72-79d8-4976-a956-98c8dea108c2",
   "metadata": {},
   "outputs": [],
   "source": [
    "import numpy as np\n",
    "import numpy.ma as ma\n",
    "from coordinates import Coordinate"
   ]
  },
  {
   "cell_type": "markdown",
   "id": "e2fba0fd-be10-48a5-8dc8-6e87544a66a7",
   "metadata": {},
   "source": [
    "We know which leg is touching the floor with:\n",
    "- touching var is a bool array representing if the leg is touching the floor\n",
    "- mov var is an array of the displacement in X of the leg"
   ]
  },
  {
   "cell_type": "code",
   "execution_count": null,
   "id": "6a0e963c-d385-4fbb-acde-f273fba78422",
   "metadata": {},
   "outputs": [],
   "source": [
    "touching = np.array([True, False, True, False])\n",
    "mov = np.array([-1, -1, -0.5, 0])"
   ]
  },
  {
   "cell_type": "markdown",
   "id": "5be2d712-7847-4358-80aa-d473d4452e87",
   "metadata": {},
   "source": [
    "We use masked array to work only on the movement of the legs that are touching the floor"
   ]
  },
  {
   "cell_type": "code",
   "execution_count": null,
   "id": "f4379411-a794-47a4-9231-3f91bff69658",
   "metadata": {},
   "outputs": [],
   "source": [
    "mov_mx_x = ma.masked_array(mov, mask=np.invert(touching))\n",
    "mov_mx_x"
   ]
  },
  {
   "cell_type": "code",
   "execution_count": null,
   "id": "9c7cbe9d-c260-4bba-9690-5c22833ffb44",
   "metadata": {},
   "outputs": [],
   "source": [
    "nb_touching_legs = np.sum(touching)\n",
    "\n",
    "delta_x = 0  # Represent the change of attitude in X\n",
    "\n",
    "if np.abs(np.sum(np.sign(mov_mx_x))) == nb_touching_legs:\n",
    "    # This means the legs are moving in the same direction\n",
    "    min_mov = mov_mx_x[np.argmin(np.abs(mov_mx_x))]\n",
    "    delta_x += min_mov\n",
    "    mov_mx_x -= min_mov"
   ]
  },
  {
   "cell_type": "code",
   "execution_count": null,
   "id": "f05598da-50c5-4f5b-983f-f68f9bac9477",
   "metadata": {},
   "outputs": [],
   "source": [
    "mov_mx_x"
   ]
  },
  {
   "cell_type": "markdown",
   "id": "983dd858-0d0e-4d7c-be33-066d063edf5d",
   "metadata": {},
   "source": [
    "# Actuation repeat same sequence"
   ]
  },
  {
   "cell_type": "code",
   "execution_count": null,
   "id": "e1f9023b-04fd-438f-b3db-0a1014292cb9",
   "metadata": {},
   "outputs": [],
   "source": [
    "steps = 3\n",
    "actuation = np.concatenate(\n",
    "    (\n",
    "        np.linspace(0, 5 * 2, num=steps),\n",
    "        np.linspace(5 * 2, 0, num=steps)\n",
    "    ),\n",
    "    axis=0\n",
    ")\n",
    "actuation = np.tile(actuation, 2)"
   ]
  },
  {
   "cell_type": "code",
   "execution_count": null,
   "id": "f332dc5c-763c-4774-a1b7-e51066dcd723",
   "metadata": {},
   "outputs": [],
   "source": [
    "actuation"
   ]
  },
  {
   "cell_type": "markdown",
   "id": "e66ed612-b766-46c3-859e-b3fb96aa07cd",
   "metadata": {},
   "source": [
    "# Pandas multi level "
   ]
  },
  {
   "cell_type": "code",
   "execution_count": 1,
   "id": "0ffb46ed-610f-420f-a664-16aaf38a8841",
   "metadata": {},
   "outputs": [],
   "source": [
    "import pandas as pd\n",
    "import numpy as np"
   ]
  },
  {
   "cell_type": "code",
   "execution_count": 39,
   "id": "5030483a-2cf7-4056-937a-1a6a51d30f34",
   "metadata": {},
   "outputs": [],
   "source": [
    "A = [1, 2, 3, 4, 5]\n",
    "B = [4, 5, 6, 7, 8]\n",
    "C = [7, 8, 9, 10, 11]\n",
    "u = [1, 2, 3, 12, 13]\n",
    "tmp = np.array([u, A, B, C]).T\n",
    "J1 = pd.DataFrame(tmp, columns=['u', 'A', 'B', 'C'])"
   ]
  },
  {
   "cell_type": "code",
   "execution_count": 40,
   "id": "64196db8-495e-4b24-b87f-558487e3b645",
   "metadata": {},
   "outputs": [
    {
     "name": "stderr",
     "output_type": "stream",
     "text": [
      "C:/Users/glagl/AppData/Local/Temp/xpython_15172/529074524.py:3: VisibleDeprecationWarning: Creating an ndarray from ragged nested sequences (which is a list-or-tuple of lists-or-tuples-or ndarrays with different lengths or shapes) is deprecated. If you meant to do this, you must specify 'dtype=object' when creating the ndarray.\n",
      "  tmp = np.array([u, pos]).T\n"
     ]
    }
   ],
   "source": [
    "J2 = pd.DataFrame(tmp, columns=['u', 'A', 'B', 'C'])\n",
    "pos = [Coordinate(x=0, y=1), Coordinate(x=0, y=1), Coordinate(x=0, y=1), Coordinate(x=0, y=1), Coordinate(x=0, y=4)]\n",
    "tmp = np.array([u, pos]).T\n",
    "rob = pd.DataFrame(tmp, columns=['u', 'pos'])"
   ]
  },
  {
   "cell_type": "code",
   "execution_count": 41,
   "id": "f080a491-fdd6-48f4-ae97-fb41ba513fdb",
   "metadata": {},
   "outputs": [],
   "source": [
    "robot = {}\n",
    "robot['J1'] = J1\n",
    "robot['J2'] = J2\n",
    "robot['rob'] = rob\n",
    "robot = pd.concat(robot, axis=1)"
   ]
  },
  {
   "cell_type": "code",
   "execution_count": 42,
   "id": "cf68cbb8-1766-4815-a0b9-8d533147ce6f",
   "metadata": {},
   "outputs": [
    {
     "data": {
      "text/html": [
       "<div>\n",
       "<style scoped>\n",
       "    .dataframe tbody tr th:only-of-type {\n",
       "        vertical-align: middle;\n",
       "    }\n",
       "\n",
       "    .dataframe tbody tr th {\n",
       "        vertical-align: top;\n",
       "    }\n",
       "\n",
       "    .dataframe thead tr th {\n",
       "        text-align: left;\n",
       "    }\n",
       "</style>\n",
       "<table border=\"1\" class=\"dataframe\">\n",
       "  <thead>\n",
       "    <tr>\n",
       "      <th></th>\n",
       "      <th colspan=\"4\" halign=\"left\">J1</th>\n",
       "      <th colspan=\"4\" halign=\"left\">J2</th>\n",
       "      <th colspan=\"2\" halign=\"left\">rob</th>\n",
       "    </tr>\n",
       "    <tr>\n",
       "      <th></th>\n",
       "      <th>u</th>\n",
       "      <th>A</th>\n",
       "      <th>B</th>\n",
       "      <th>C</th>\n",
       "      <th>u</th>\n",
       "      <th>A</th>\n",
       "      <th>B</th>\n",
       "      <th>C</th>\n",
       "      <th>u</th>\n",
       "      <th>pos</th>\n",
       "    </tr>\n",
       "  </thead>\n",
       "  <tbody>\n",
       "    <tr>\n",
       "      <th>0</th>\n",
       "      <td>1</td>\n",
       "      <td>1</td>\n",
       "      <td>4</td>\n",
       "      <td>7</td>\n",
       "      <td>1</td>\n",
       "      <td>1</td>\n",
       "      <td>4</td>\n",
       "      <td>7</td>\n",
       "      <td>1</td>\n",
       "      <td>[y, x]</td>\n",
       "    </tr>\n",
       "    <tr>\n",
       "      <th>1</th>\n",
       "      <td>2</td>\n",
       "      <td>2</td>\n",
       "      <td>5</td>\n",
       "      <td>8</td>\n",
       "      <td>2</td>\n",
       "      <td>2</td>\n",
       "      <td>5</td>\n",
       "      <td>8</td>\n",
       "      <td>2</td>\n",
       "      <td>[y, x]</td>\n",
       "    </tr>\n",
       "    <tr>\n",
       "      <th>2</th>\n",
       "      <td>3</td>\n",
       "      <td>3</td>\n",
       "      <td>6</td>\n",
       "      <td>9</td>\n",
       "      <td>3</td>\n",
       "      <td>3</td>\n",
       "      <td>6</td>\n",
       "      <td>9</td>\n",
       "      <td>3</td>\n",
       "      <td>[y, x]</td>\n",
       "    </tr>\n",
       "    <tr>\n",
       "      <th>3</th>\n",
       "      <td>12</td>\n",
       "      <td>4</td>\n",
       "      <td>7</td>\n",
       "      <td>10</td>\n",
       "      <td>12</td>\n",
       "      <td>4</td>\n",
       "      <td>7</td>\n",
       "      <td>10</td>\n",
       "      <td>12</td>\n",
       "      <td>[y, x]</td>\n",
       "    </tr>\n",
       "    <tr>\n",
       "      <th>4</th>\n",
       "      <td>13</td>\n",
       "      <td>5</td>\n",
       "      <td>8</td>\n",
       "      <td>11</td>\n",
       "      <td>13</td>\n",
       "      <td>5</td>\n",
       "      <td>8</td>\n",
       "      <td>11</td>\n",
       "      <td>13</td>\n",
       "      <td>[y, x]</td>\n",
       "    </tr>\n",
       "  </tbody>\n",
       "</table>\n",
       "</div>"
      ],
      "text/plain": [
       "   J1            J2           rob        \n",
       "    u  A  B   C   u  A  B   C   u     pos\n",
       "0   1  1  4   7   1  1  4   7   1  [y, x]\n",
       "1   2  2  5   8   2  2  5   8   2  [y, x]\n",
       "2   3  3  6   9   3  3  6   9   3  [y, x]\n",
       "3  12  4  7  10  12  4  7  10  12  [y, x]\n",
       "4  13  5  8  11  13  5  8  11  13  [y, x]"
      ]
     },
     "execution_count": 42,
     "metadata": {},
     "output_type": "execute_result"
    }
   ],
   "source": [
    "robot"
   ]
  },
  {
   "cell_type": "markdown",
   "id": "f8d5627b-7ef7-44f9-8e94-93f2dc452c37",
   "metadata": {},
   "source": [
    "# Python list of coordinates to list"
   ]
  },
  {
   "cell_type": "code",
   "execution_count": 1,
   "id": "ccc68b87-2e22-4c50-adde-8af48cf7cb48",
   "metadata": {},
   "outputs": [],
   "source": [
    "from coordinates import Coordinate"
   ]
  },
  {
   "cell_type": "code",
   "execution_count": 7,
   "id": "1c09992d-9a3b-4157-9a2a-563e37e6ad43",
   "metadata": {},
   "outputs": [],
   "source": [
    "l = []\n",
    "l.append(Coordinate(x=0, y=12, z=0))\n",
    "l.append(Coordinate(x=1, y=2, z=1))"
   ]
  },
  {
   "cell_type": "code",
   "execution_count": 8,
   "id": "320427ac-c4af-4da2-94ae-0cbbaf3b64cc",
   "metadata": {},
   "outputs": [],
   "source": [
    "def list_coord2list(list_coordinates):\n",
    "    \"\"\"\n",
    "    Convert a list(Coordinates) to 3 list of axis coordinate\n",
    "    x[], y[] and z[]\n",
    "    \"\"\"\n",
    "    x = [c.x for c in list_coordinates]\n",
    "    y = [c.y for c in list_coordinates]\n",
    "    z = [c.z for c in list_coordinates]\n",
    "\n",
    "    return x, y, z"
   ]
  },
  {
   "cell_type": "code",
   "execution_count": 9,
   "id": "edab01cb-c501-4a48-88b3-3dcfb11ab7b2",
   "metadata": {},
   "outputs": [],
   "source": [
    "t = [[1, 2, 3], list_coord2list(l)]"
   ]
  },
  {
   "cell_type": "code",
   "execution_count": 10,
   "id": "6bfab02f-ea69-4d5f-91bf-a75c2ff638aa",
   "metadata": {},
   "outputs": [
    {
     "data": {
      "text/plain": [
       "[[1, 2, 3], ([0, 1], [12, 2], [0, 1])]"
      ]
     },
     "execution_count": 10,
     "metadata": {},
     "output_type": "execute_result"
    }
   ],
   "source": [
    "t"
   ]
  },
  {
   "cell_type": "markdown",
   "id": "ed8012c8-06b1-4807-944f-819ff54d1018",
   "metadata": {},
   "source": [
    "# Python plane angle"
   ]
  },
  {
   "cell_type": "code",
   "execution_count": 2,
   "id": "0b2ed099-d310-4c73-9c0f-a45db2b7e235",
   "metadata": {},
   "outputs": [],
   "source": [
    "import numpy as np\n",
    "import numpy.ma as ma"
   ]
  },
  {
   "cell_type": "code",
   "execution_count": 47,
   "id": "2e382930-af1f-451b-b5ff-29569dacc11e",
   "metadata": {},
   "outputs": [],
   "source": [
    "legs_positions = np.array([\n",
    "    [1, 2, 3], \n",
    "    [2, 1, 3],\n",
    "    [1, 2, 3], \n",
    "    [2, 1, 3]\n",
    "])\n",
    "\n",
    "touching_legs = [True, False, False, False]\n"
   ]
  },
  {
   "cell_type": "code",
   "execution_count": 43,
   "id": "d05c1656-88e9-46d8-b579-f0c0545b2866",
   "metadata": {},
   "outputs": [
    {
     "data": {
      "text/plain": [
       "array([[1, 2, 3],\n",
       "       [2, 1, 3],\n",
       "       [2, 1, 3]])"
      ]
     },
     "execution_count": 43,
     "metadata": {},
     "output_type": "execute_result"
    }
   ],
   "source": [
    "legs_positions[np.where(np.array(touching_legs) == True)]"
   ]
  },
  {
   "cell_type": "code",
   "execution_count": 44,
   "id": "ddfdd5c5-21dc-491f-93dd-441253f66f27",
   "metadata": {},
   "outputs": [
    {
     "data": {
      "text/plain": [
       "array([ 1, -1,  0])"
      ]
     },
     "execution_count": 44,
     "metadata": {},
     "output_type": "execute_result"
    }
   ],
   "source": [
    "legs_positions[1] - legs_positions[2]"
   ]
  },
  {
   "cell_type": "code",
   "execution_count": 51,
   "id": "43009a87-7b11-4669-884d-e6cd43d4e3d4",
   "metadata": {},
   "outputs": [],
   "source": [
    "legs = np.array([1, 2, 3, 4])\n",
    "touching_legs = np.array([True, False, False, False])\n",
    "touching_legs_index = np.array([1])\n",
    "m = np.ones(legs.size, dtype=bool)\n",
    "m[touching_legs_index] = False\n",
    "sub_legs = legs[m]"
   ]
  },
  {
   "cell_type": "code",
   "execution_count": 52,
   "id": "7d17954d-0b87-4e9c-aa5e-c0d2acc4a331",
   "metadata": {},
   "outputs": [
    {
     "data": {
      "text/plain": [
       "array([1, 3, 4])"
      ]
     },
     "execution_count": 52,
     "metadata": {},
     "output_type": "execute_result"
    }
   ],
   "source": [
    "sub_legs"
   ]
  },
  {
   "cell_type": "code",
   "execution_count": 53,
   "id": "2c976950-382d-4ddf-a63d-baa0bd5fb2a1",
   "metadata": {},
   "outputs": [
    {
     "data": {
      "text/plain": [
       "(array([0, 1], dtype=int64),)"
      ]
     },
     "execution_count": 53,
     "metadata": {},
     "output_type": "execute_result"
    }
   ],
   "source": [
    "np.where(sub_legs < 4)"
   ]
  },
  {
   "cell_type": "code",
   "execution_count": 61,
   "id": "8c8b9a52-63af-4b3f-b136-bc0d645498af",
   "metadata": {},
   "outputs": [
    {
     "ename": "ValueError",
     "evalue": "all the input arrays must have same number of dimensions, but the array at index 0 has 1 dimension(s) and the array at index 1 has 0 dimension(s)",
     "output_type": "error",
     "traceback": [
      "\u001b[0;31m---------------------------------------------------------------------------\u001b[0m\n\u001b[0;31mValueError\u001b[0m                                Traceback (most recent call last)",
      "File \u001b[0;34mc:\\users\\glagl\\appdata\\local\\programs\\python\\python38\\lib\\site-packages\\IPython\\core\\interactiveshell.py\u001b[0m, in \u001b[0;32mrun_code\u001b[0m:\nLine \u001b[0;34m3437\u001b[0m:  exec(code_obj, \u001b[36mself\u001b[39;49;00m.user_global_ns, \u001b[36mself\u001b[39;49;00m.user_ns)\n",
      "In  \u001b[0;34m[61]\u001b[0m:\nLine \u001b[0;34m1\u001b[0m:     np.concatenate((np.array([\u001b[34m1\u001b[39;49;00m, \u001b[34m2\u001b[39;49;00m]), \u001b[34mNone\u001b[39;49;00m))\n",
      "File \u001b[0;34m<__array_function__ internals>\u001b[0m, in \u001b[0;32mconcatenate\u001b[0m:\nLine \u001b[0;34m5\u001b[0m:     \n",
      "\u001b[0;31mValueError\u001b[0m: all the input arrays must have same number of dimensions, but the array at index 0 has 1 dimension(s) and the array at index 1 has 0 dimension(s)\n\u001b[0;31m---------------------------------------------------------------------------\u001b[0m"
     ]
    }
   ],
   "source": [
    "np.concatenate((np.array([1, 2]), None))"
   ]
  },
  {
   "cell_type": "markdown",
   "id": "dee38b0b-399f-4885-bb32-80e9aa0f84f9",
   "metadata": {},
   "source": [
    "# Rotation from vector solve"
   ]
  },
  {
   "cell_type": "code",
   "execution_count": 33,
   "id": "27ac525c-aead-4e8f-b311-00678b6d65e9",
   "metadata": {},
   "outputs": [
    {
     "ename": "ModuleNotFoundError",
     "evalue": "No module named 'scipy'",
     "output_type": "error",
     "traceback": [
      "\u001b[0;31m---------------------------------------------------------------------------\u001b[0m\n\u001b[0;31mModuleNotFoundError\u001b[0m                       Traceback (most recent call last)",
      "File \u001b[0;34mc:\\users\\glagl\\appdata\\local\\programs\\python\\python38\\lib\\site-packages\\IPython\\core\\interactiveshell.py\u001b[0m, in \u001b[0;32mrun_code\u001b[0m:\nLine \u001b[0;34m3437\u001b[0m:  exec(code_obj, \u001b[36mself\u001b[39;49;00m.user_global_ns, \u001b[36mself\u001b[39;49;00m.user_ns)\n",
      "In  \u001b[0;34m[33]\u001b[0m:\nLine \u001b[0;34m3\u001b[0m:     \u001b[34mfrom\u001b[39;49;00m \u001b[04m\u001b[36mscipy\u001b[39;49;00m\u001b[04m\u001b[36m.\u001b[39;49;00m\u001b[04m\u001b[36mspatial\u001b[39;49;00m\u001b[04m\u001b[36m.\u001b[39;49;00m\u001b[04m\u001b[36mtransform\u001b[39;49;00m \u001b[34mimport\u001b[39;49;00m Rotation \u001b[34mas\u001b[39;49;00m R\n",
      "\u001b[0;31mModuleNotFoundError\u001b[0m: No module named 'scipy'\n\u001b[0;31m---------------------------------------------------------------------------\u001b[0m"
     ]
    }
   ],
   "source": [
    "import numpy as np\n",
    "from numpy.linalg import norm\n",
    "from scipy.spatial.transform import Rotation as R\n"
   ]
  },
  {
   "cell_type": "code",
   "execution_count": 93,
   "id": "a1fa2266-4912-4bac-a21d-82988aca36cb",
   "metadata": {},
   "outputs": [],
   "source": [
    "ground = np.array([-1, 1, 1])\n",
    "plane = np.array([0, 0, 1])"
   ]
  },
  {
   "cell_type": "code",
   "execution_count": 94,
   "id": "30f68bcb-1b9f-471d-a9ca-da98fb6b9ed1",
   "metadata": {},
   "outputs": [],
   "source": [
    "def roll(v): \n",
    "    \"\"\"\n",
    "    around x axis, v is [y ,z]\n",
    "    \"\"\"\n",
    "    w = np.array([0, 1])\n",
    "    return np.sign(np.cross(v, w)) * np.arccos(v.dot(w)/(norm(v)*norm(w)))\n",
    "def pitch(v): \n",
    "    \"\"\"\n",
    "    around y axis, v is [x, z]\n",
    "    \"\"\"\n",
    "    w = np.array([0, 1])\n",
    "    return np.sign(np.cross(v, w)) * np.arccos(v.dot(w)/(norm(v)*norm(w)))"
   ]
  },
  {
   "cell_type": "code",
   "execution_count": 95,
   "id": "c12070c7-e32e-4fa2-baea-8453fdabaf22",
   "metadata": {},
   "outputs": [
    {
     "data": {
      "text/plain": [
       "0.7853981633974484"
      ]
     },
     "execution_count": 95,
     "metadata": {},
     "output_type": "execute_result"
    }
   ],
   "source": [
    "roll(v=np.array([ground[1], ground[2]]))"
   ]
  },
  {
   "cell_type": "code",
   "execution_count": 96,
   "id": "af2d384f-03e0-4112-9ddf-1275e6b10a51",
   "metadata": {},
   "outputs": [
    {
     "data": {
      "text/plain": [
       "-0.7853981633974484"
      ]
     },
     "execution_count": 96,
     "metadata": {},
     "output_type": "execute_result"
    }
   ],
   "source": [
    "pitch(v=np.array([ground[0], ground[2]]))"
   ]
  },
  {
   "cell_type": "code",
   "execution_count": null,
   "id": "029fa620-6fdb-4224-b49f-dea4543e3c44",
   "metadata": {},
   "outputs": [],
   "source": []
  }
 ],
 "metadata": {
  "kernelspec": {
   "display_name": "Python 3.8 (XPython)",
   "language": "python",
   "name": "xpython"
  },
  "language_info": {
   "file_extension": ".py",
   "mimetype": "text/x-python",
   "name": "python",
   "version": "3.8.8"
  }
 },
 "nbformat": 4,
 "nbformat_minor": 5
}
