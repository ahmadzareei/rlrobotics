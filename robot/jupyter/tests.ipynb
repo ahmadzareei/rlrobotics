{
 "cells": [
  {
   "cell_type": "markdown",
   "id": "3704e63d-1d0f-468e-81ca-b0692e621148",
   "metadata": {},
   "source": [
    "# How to compute attitude of robot"
   ]
  },
  {
   "cell_type": "code",
   "execution_count": null,
   "id": "12435d72-79d8-4976-a956-98c8dea108c2",
   "metadata": {},
   "outputs": [],
   "source": [
    "import numpy as np\n",
    "import numpy.ma as ma\n",
    "from coordinates import Coordinate"
   ]
  },
  {
   "cell_type": "markdown",
   "id": "e2fba0fd-be10-48a5-8dc8-6e87544a66a7",
   "metadata": {},
   "source": [
    "We know which leg is touching the floor with:\n",
    "- touching var is a bool array representing if the leg is touching the floor\n",
    "- mov var is an array of the displacement in X of the leg"
   ]
  },
  {
   "cell_type": "code",
   "execution_count": null,
   "id": "6a0e963c-d385-4fbb-acde-f273fba78422",
   "metadata": {},
   "outputs": [],
   "source": [
    "touching = np.array([True, False, True, False])\n",
    "mov = np.array([-1, -1, -0.5, 0])"
   ]
  },
  {
   "cell_type": "markdown",
   "id": "5be2d712-7847-4358-80aa-d473d4452e87",
   "metadata": {},
   "source": [
    "We use masked array to work only on the movement of the legs that are touching the floor"
   ]
  },
  {
   "cell_type": "code",
   "execution_count": null,
   "id": "f4379411-a794-47a4-9231-3f91bff69658",
   "metadata": {},
   "outputs": [],
   "source": [
    "mov_mx_x = ma.masked_array(mov, mask=np.invert(touching))\n",
    "mov_mx_x"
   ]
  },
  {
   "cell_type": "code",
   "execution_count": null,
   "id": "9c7cbe9d-c260-4bba-9690-5c22833ffb44",
   "metadata": {},
   "outputs": [],
   "source": [
    "nb_touching_legs = np.sum(touching)\n",
    "\n",
    "delta_x = 0  # Represent the change of attitude in X\n",
    "\n",
    "if np.abs(np.sum(np.sign(mov_mx_x))) == nb_touching_legs:\n",
    "    # This means the legs are moving in the same direction\n",
    "    min_mov = mov_mx_x[np.argmin(np.abs(mov_mx_x))]\n",
    "    delta_x += min_mov\n",
    "    mov_mx_x -= min_mov"
   ]
  },
  {
   "cell_type": "code",
   "execution_count": null,
   "id": "f05598da-50c5-4f5b-983f-f68f9bac9477",
   "metadata": {},
   "outputs": [],
   "source": [
    "mov_mx_x"
   ]
  },
  {
   "cell_type": "markdown",
   "id": "983dd858-0d0e-4d7c-be33-066d063edf5d",
   "metadata": {},
   "source": [
    "# Actuation repeat same sequence"
   ]
  },
  {
   "cell_type": "code",
   "execution_count": null,
   "id": "e1f9023b-04fd-438f-b3db-0a1014292cb9",
   "metadata": {},
   "outputs": [],
   "source": [
    "steps = 3\n",
    "actuation = np.concatenate(\n",
    "    (\n",
    "        np.linspace(0, 5 * 2, num=steps),\n",
    "        np.linspace(5 * 2, 0, num=steps)\n",
    "    ),\n",
    "    axis=0\n",
    ")\n",
    "actuation = np.tile(actuation, 2)"
   ]
  },
  {
   "cell_type": "code",
   "execution_count": null,
   "id": "f332dc5c-763c-4774-a1b7-e51066dcd723",
   "metadata": {},
   "outputs": [],
   "source": [
    "actuation"
   ]
  },
  {
   "cell_type": "markdown",
   "id": "e66ed612-b766-46c3-859e-b3fb96aa07cd",
   "metadata": {},
   "source": [
    "# Pandas multi level "
   ]
  },
  {
   "cell_type": "code",
   "execution_count": 1,
   "id": "0ffb46ed-610f-420f-a664-16aaf38a8841",
   "metadata": {},
   "outputs": [],
   "source": [
    "import pandas as pd\n",
    "import numpy as np"
   ]
  },
  {
   "cell_type": "code",
   "execution_count": 39,
   "id": "5030483a-2cf7-4056-937a-1a6a51d30f34",
   "metadata": {},
   "outputs": [],
   "source": [
    "A = [1, 2, 3, 4, 5]\n",
    "B = [4, 5, 6, 7, 8]\n",
    "C = [7, 8, 9, 10, 11]\n",
    "u = [1, 2, 3, 12, 13]\n",
    "tmp = np.array([u, A, B, C]).T\n",
    "J1 = pd.DataFrame(tmp, columns=['u', 'A', 'B', 'C'])"
   ]
  },
  {
   "cell_type": "code",
   "execution_count": 40,
   "id": "64196db8-495e-4b24-b87f-558487e3b645",
   "metadata": {},
   "outputs": [
    {
     "name": "stderr",
     "output_type": "stream",
     "text": [
      "C:/Users/glagl/AppData/Local/Temp/xpython_15172/529074524.py:3: VisibleDeprecationWarning: Creating an ndarray from ragged nested sequences (which is a list-or-tuple of lists-or-tuples-or ndarrays with different lengths or shapes) is deprecated. If you meant to do this, you must specify 'dtype=object' when creating the ndarray.\n",
      "  tmp = np.array([u, pos]).T\n"
     ]
    }
   ],
   "source": [
    "J2 = pd.DataFrame(tmp, columns=['u', 'A', 'B', 'C'])\n",
    "pos = [Coordinate(x=0, y=1), Coordinate(x=0, y=1), Coordinate(x=0, y=1), Coordinate(x=0, y=1), Coordinate(x=0, y=4)]\n",
    "tmp = np.array([u, pos]).T\n",
    "rob = pd.DataFrame(tmp, columns=['u', 'pos'])"
   ]
  },
  {
   "cell_type": "code",
   "execution_count": 41,
   "id": "f080a491-fdd6-48f4-ae97-fb41ba513fdb",
   "metadata": {},
   "outputs": [],
   "source": [
    "robot = {}\n",
    "robot['J1'] = J1\n",
    "robot['J2'] = J2\n",
    "robot['rob'] = rob\n",
    "robot = pd.concat(robot, axis=1)"
   ]
  },
  {
   "cell_type": "code",
   "execution_count": 42,
   "id": "cf68cbb8-1766-4815-a0b9-8d533147ce6f",
   "metadata": {},
   "outputs": [
    {
     "data": {
      "text/html": [
       "<div>\n",
       "<style scoped>\n",
       "    .dataframe tbody tr th:only-of-type {\n",
       "        vertical-align: middle;\n",
       "    }\n",
       "\n",
       "    .dataframe tbody tr th {\n",
       "        vertical-align: top;\n",
       "    }\n",
       "\n",
       "    .dataframe thead tr th {\n",
       "        text-align: left;\n",
       "    }\n",
       "</style>\n",
       "<table border=\"1\" class=\"dataframe\">\n",
       "  <thead>\n",
       "    <tr>\n",
       "      <th></th>\n",
       "      <th colspan=\"4\" halign=\"left\">J1</th>\n",
       "      <th colspan=\"4\" halign=\"left\">J2</th>\n",
       "      <th colspan=\"2\" halign=\"left\">rob</th>\n",
       "    </tr>\n",
       "    <tr>\n",
       "      <th></th>\n",
       "      <th>u</th>\n",
       "      <th>A</th>\n",
       "      <th>B</th>\n",
       "      <th>C</th>\n",
       "      <th>u</th>\n",
       "      <th>A</th>\n",
       "      <th>B</th>\n",
       "      <th>C</th>\n",
       "      <th>u</th>\n",
       "      <th>pos</th>\n",
       "    </tr>\n",
       "  </thead>\n",
       "  <tbody>\n",
       "    <tr>\n",
       "      <th>0</th>\n",
       "      <td>1</td>\n",
       "      <td>1</td>\n",
       "      <td>4</td>\n",
       "      <td>7</td>\n",
       "      <td>1</td>\n",
       "      <td>1</td>\n",
       "      <td>4</td>\n",
       "      <td>7</td>\n",
       "      <td>1</td>\n",
       "      <td>[y, x]</td>\n",
       "    </tr>\n",
       "    <tr>\n",
       "      <th>1</th>\n",
       "      <td>2</td>\n",
       "      <td>2</td>\n",
       "      <td>5</td>\n",
       "      <td>8</td>\n",
       "      <td>2</td>\n",
       "      <td>2</td>\n",
       "      <td>5</td>\n",
       "      <td>8</td>\n",
       "      <td>2</td>\n",
       "      <td>[y, x]</td>\n",
       "    </tr>\n",
       "    <tr>\n",
       "      <th>2</th>\n",
       "      <td>3</td>\n",
       "      <td>3</td>\n",
       "      <td>6</td>\n",
       "      <td>9</td>\n",
       "      <td>3</td>\n",
       "      <td>3</td>\n",
       "      <td>6</td>\n",
       "      <td>9</td>\n",
       "      <td>3</td>\n",
       "      <td>[y, x]</td>\n",
       "    </tr>\n",
       "    <tr>\n",
       "      <th>3</th>\n",
       "      <td>12</td>\n",
       "      <td>4</td>\n",
       "      <td>7</td>\n",
       "      <td>10</td>\n",
       "      <td>12</td>\n",
       "      <td>4</td>\n",
       "      <td>7</td>\n",
       "      <td>10</td>\n",
       "      <td>12</td>\n",
       "      <td>[y, x]</td>\n",
       "    </tr>\n",
       "    <tr>\n",
       "      <th>4</th>\n",
       "      <td>13</td>\n",
       "      <td>5</td>\n",
       "      <td>8</td>\n",
       "      <td>11</td>\n",
       "      <td>13</td>\n",
       "      <td>5</td>\n",
       "      <td>8</td>\n",
       "      <td>11</td>\n",
       "      <td>13</td>\n",
       "      <td>[y, x]</td>\n",
       "    </tr>\n",
       "  </tbody>\n",
       "</table>\n",
       "</div>"
      ],
      "text/plain": [
       "   J1            J2           rob        \n",
       "    u  A  B   C   u  A  B   C   u     pos\n",
       "0   1  1  4   7   1  1  4   7   1  [y, x]\n",
       "1   2  2  5   8   2  2  5   8   2  [y, x]\n",
       "2   3  3  6   9   3  3  6   9   3  [y, x]\n",
       "3  12  4  7  10  12  4  7  10  12  [y, x]\n",
       "4  13  5  8  11  13  5  8  11  13  [y, x]"
      ]
     },
     "execution_count": 42,
     "metadata": {},
     "output_type": "execute_result"
    }
   ],
   "source": [
    "robot"
   ]
  },
  {
   "cell_type": "markdown",
   "id": "f8d5627b-7ef7-44f9-8e94-93f2dc452c37",
   "metadata": {},
   "source": [
    "# Python list of coordinates to list"
   ]
  },
  {
   "cell_type": "code",
   "execution_count": 1,
   "id": "ccc68b87-2e22-4c50-adde-8af48cf7cb48",
   "metadata": {},
   "outputs": [],
   "source": [
    "from coordinates import Coordinate"
   ]
  },
  {
   "cell_type": "code",
   "execution_count": 7,
   "id": "1c09992d-9a3b-4157-9a2a-563e37e6ad43",
   "metadata": {},
   "outputs": [],
   "source": [
    "l = []\n",
    "l.append(Coordinate(x=0, y=12, z=0))\n",
    "l.append(Coordinate(x=1, y=2, z=1))"
   ]
  },
  {
   "cell_type": "code",
   "execution_count": 8,
   "id": "320427ac-c4af-4da2-94ae-0cbbaf3b64cc",
   "metadata": {},
   "outputs": [],
   "source": [
    "def list_coord2list(list_coordinates):\n",
    "    \"\"\"\n",
    "    Convert a list(Coordinates) to 3 list of axis coordinate\n",
    "    x[], y[] and z[]\n",
    "    \"\"\"\n",
    "    x = [c.x for c in list_coordinates]\n",
    "    y = [c.y for c in list_coordinates]\n",
    "    z = [c.z for c in list_coordinates]\n",
    "\n",
    "    return x, y, z"
   ]
  },
  {
   "cell_type": "code",
   "execution_count": 9,
   "id": "edab01cb-c501-4a48-88b3-3dcfb11ab7b2",
   "metadata": {},
   "outputs": [],
   "source": [
    "t = [[1, 2, 3], list_coord2list(l)]"
   ]
  },
  {
   "cell_type": "code",
   "execution_count": 10,
   "id": "6bfab02f-ea69-4d5f-91bf-a75c2ff638aa",
   "metadata": {},
   "outputs": [
    {
     "data": {
      "text/plain": [
       "[[1, 2, 3], ([0, 1], [12, 2], [0, 1])]"
      ]
     },
     "execution_count": 10,
     "metadata": {},
     "output_type": "execute_result"
    }
   ],
   "source": [
    "t"
   ]
  },
  {
   "cell_type": "code",
   "execution_count": null,
   "id": "f53fdb6a-672c-47c6-8482-b9bab2a7df44",
   "metadata": {},
   "outputs": [],
   "source": []
  }
 ],
 "metadata": {
  "kernelspec": {
   "display_name": "Python 3.8 (XPython)",
   "language": "python",
   "name": "xpython"
  },
  "language_info": {
   "file_extension": ".py",
   "mimetype": "text/x-python",
   "name": "python",
   "version": "3.8.8"
  }
 },
 "nbformat": 4,
 "nbformat_minor": 5
}
